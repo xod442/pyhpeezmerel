{
 "cells": [
  {
   "cell_type": "markdown",
   "metadata": {},
   "source": [
    "# Serial Numbers, How I love thee... \n",
    "\n",
    "No one really like serial numbers, but keeping track of them is one of the \"brushing your teeth\" activities that everyone needs to take care of.  It's like eating your brussel sprouts. Or listening to your mom. You're just better of if you do it quickly as it just gets more painful over time.\n",
    "\n",
    "Not only is it just good hygene, but you may be subject to regulations, like [eRate](https://en.wikipedia.org/wiki/E-Rate) in the United States where you have to be able to report on the location of any device by serial number at any point in time. \n",
    "\n",
    "> Trust me, having to play hide-and-go seek with an SSH session is not something you want to do when government auditors are looking for answers.\n",
    "\n",
    "I'm sure you've already guessed what I'm about to say, but I\"ll say it anyway...\n",
    "\n",
    "> *There's an API for that!!!*\n",
    "\n",
    "[HPE IMC](http://www.hpe.com/networking/imc) base platform has a great network assets function that automatically gathers all the details of your various devices, assuming of course they support [RFC 4133](https://tools.ietf.org/html/rfc4133), otherwise known as the Entity MIB. On the bright side, most vendors have chosen to support this standards based MIB, so chances are you're in good shape. \n",
    "\n",
    "And if they don't support it, they really should. You should ask them. Ok?\n",
    "\n",
    "So without further ado, let's get started."
   ]
  },
  {
   "cell_type": "markdown",
   "metadata": {},
   "source": [
    "## Importing the required libraries\n",
    "\n",
    "I'm sure you're getting used to this part, but it's import to know where to look for these different functions. In this case, we're going to look at a new library that is specifically designed to deal with network assets, including serial numbers."
   ]
  },
  {
   "cell_type": "code",
   "execution_count": 1,
   "metadata": {
    "collapsed": false
   },
   "outputs": [],
   "source": [
    "from pyhpeimc.auth import *\n",
    "from pyhpeimc.plat.netassets import *\n",
    "import csv"
   ]
  },
  {
   "cell_type": "code",
   "execution_count": 2,
   "metadata": {
    "collapsed": true
   },
   "outputs": [],
   "source": [
    "auth = IMCAuth(\"http://\", \"10.101.0.203\", \"8080\", \"admin\", \"admin\")"
   ]
  },
  {
   "cell_type": "code",
   "execution_count": 3,
   "metadata": {
    "collapsed": false
   },
   "outputs": [],
   "source": [
    "ciscorouter = get_dev_asset_details('10.101.0.1', auth.creds, auth.url)"
   ]
  },
  {
   "cell_type": "markdown",
   "metadata": {},
   "source": [
    "## How many assets in a Cisco Router?\n",
    "\n",
    "As some of you may have heard, HPE IMC is a multi-vendor tool and offers support for many of the common devices you'll see in your daily travels. \n",
    "\n",
    "In this example, we're going to use a Cisco 2811 router to showcase the basic function.\n",
    "\n",
    "Routers, like chassis switches have multiple components. As any one who's ever been the ~~victem~~ owner of a Smartnet contract, you'll know that you have individual components which have serial numbers as well and all of them have to be reported for them to be covered. So let's see if we managed to grab all of those by first checking out how many individual items we got back in the asset list for this cisco router."
   ]
  },
  {
   "cell_type": "code",
   "execution_count": 4,
   "metadata": {
    "collapsed": false
   },
   "outputs": [
    {
     "data": {
      "text/plain": [
       "7"
      ]
     },
     "execution_count": 4,
     "metadata": {},
     "output_type": "execute_result"
    }
   ],
   "source": [
    "len(ciscorouter)"
   ]
  },
  {
   "cell_type": "markdown",
   "metadata": {},
   "source": [
    "## What's in the box???\n",
    "\n",
    "Now we know that we've got an idea of how many assets are in here, let's take a look to see exactly what's in one of the asset records to see if there's anything useful in here. "
   ]
  },
  {
   "cell_type": "code",
   "execution_count": 5,
   "metadata": {
    "collapsed": false
   },
   "outputs": [
    {
     "data": {
      "text/plain": [
       "{'alias': '',\n",
       " 'asset': 'http://kontrolissues.thruhere.net:8086/imcrs/netasset/asset/detail?devId=15&phyIndex=1',\n",
       " 'assetNumber': '',\n",
       " 'boardNum': 'FHK1119F1DX',\n",
       " 'bom': '',\n",
       " 'buildInfo': '',\n",
       " 'cleiCode': '',\n",
       " 'containedIn': '0',\n",
       " 'desc': '2811 chassis',\n",
       " 'devId': '15',\n",
       " 'deviceIp': '10.101.0.1',\n",
       " 'deviceName': 'router.lab.local',\n",
       " 'firmwareVersion': 'System Bootstrap, Version 12.4(13r)T11, RELEASE SOFTWARE (fc1)',\n",
       " 'hardVersion': 'V04 ',\n",
       " 'isFRU': '2',\n",
       " 'mfgName': 'Cisco',\n",
       " 'model': 'CISCO2811',\n",
       " 'name': '2811 chassis',\n",
       " 'phyClass': '3',\n",
       " 'phyIndex': '1',\n",
       " 'physicalFlag': '0',\n",
       " 'relPos': '-1',\n",
       " 'remark': '',\n",
       " 'serialNum': 'FHK1119F1DX',\n",
       " 'serverDate': '2016-01-26T15:20:40-05:00',\n",
       " 'softVersion': '15.1(4)M, RELEASE SOFTWARE (fc1)',\n",
       " 'vendorType': '1.3.6.1.4.1.9.12.3.1.3.436'}"
      ]
     },
     "execution_count": 5,
     "metadata": {},
     "output_type": "execute_result"
    }
   ],
   "source": [
    "ciscorouter[0]"
   ]
  },
  {
   "cell_type": "markdown",
   "metadata": {},
   "source": [
    "## What can we do with this?\n",
    "\n",
    "With some basic python string manipulation we could easily print out some of the attributes that we want into what could easily turn into a nicely formated report. \n",
    "\n",
    "Again realise that the example below is just a subset of what's available in the JSON above. If you want more, just add it to the list. \n",
    "\n"
   ]
  },
  {
   "cell_type": "code",
   "execution_count": 7,
   "metadata": {
    "collapsed": false
   },
   "outputs": [
    {
     "name": "stdout",
     "output_type": "stream",
     "text": [
      "Device Name: router.lab.local Device Model: CISCO2811\n",
      "Asset Name is: 2811 chassis Asset Serial Number is: FHK1119F1DX\n",
      "\n",
      "Device Name: router.lab.local Device Model: VIC2-2FXO\n",
      "Asset Name is: 2nd generation two port FXO voice interface daughtercard on Slot 0 SubSlot 2 Asset Serial Number is: FOC11063NZ4\n",
      "\n",
      "Device Name: router.lab.local Device Model:  \n",
      "Asset Name is: 40GB IDE Disc Daughter Card on Slot 1 SubSlot 0 Asset Serial Number is: FOC11163P04\n",
      "\n",
      "Device Name: router.lab.local Device Model: \n",
      "Asset Name is: AIM Container Slot 0 Asset Serial Number is: \n",
      "\n",
      "Device Name: router.lab.local Device Model: \n",
      "Asset Name is: AIM Container Slot 1 Asset Serial Number is: \n",
      "\n",
      "Device Name: router.lab.local Device Model: \n",
      "Asset Name is: C2811 Chassis Slot 0 Asset Serial Number is: \n",
      "\n",
      "Device Name: router.lab.local Device Model: \n",
      "Asset Name is: C2811 Chassis Slot 1 Asset Serial Number is: \n",
      "\n"
     ]
    }
   ],
   "source": [
    "for i in ciscorouter:\n",
    "    print (\"Device Name: \" + i['deviceName'] + \" Device Model: \" + i['model'] +\n",
    "           \"\\nAsset Name is: \" + i['name'] + \" Asset Serial Number is: \" + \n",
    "           i['serialNum']+ \"\\n\")"
   ]
  },
  {
   "cell_type": "markdown",
   "metadata": {},
   "source": [
    "## Why not just write that to disk?\n",
    "\n",
    "Although we could go directly to the formated report without a lot of extra work, we would be losing a lot of data which we may have use for later. Instead why don't we export all the available data from the JSON above into a CSV file which can be later opened in your favourite spreadsheet viewer and manipulated to your hearst content.\n",
    "\n",
    "Pretty cool, no?\n",
    "\n"
   ]
  },
  {
   "cell_type": "code",
   "execution_count": 9,
   "metadata": {
    "collapsed": false
   },
   "outputs": [],
   "source": [
    "keys = ciscorouter[0].keys()\n",
    "with open('ciscorouter.csv', 'w') as file:\n",
    "    dict_writer = csv.DictWriter(file, keys)\n",
    "    dict_writer.writeheader()\n",
    "    dict_writer.writerows(ciscorouter)"
   ]
  },
  {
   "cell_type": "markdown",
   "metadata": {},
   "source": [
    "## Reading it back\n",
    "\n",
    "Now we'll read it back from disk to make sure it worked properly. When working with data like this, I find it useful to think about who's going to be consuming the data.  For example, when looking at this remember this is a CSV file which can be easily opened in python, or something like Microsoft Excel to manipuate further. It's not realy intended to be read by human beings in this particular format. You'll need another program to consume and munge the data first to turn it into something human consumable. "
   ]
  },
  {
   "cell_type": "code",
   "execution_count": 12,
   "metadata": {
    "collapsed": false
   },
   "outputs": [
    {
     "name": "stdout",
     "output_type": "stream",
     "text": [
      "firmwareVersion,vendorType,phyIndex,relPos,boardNum,phyClass,softVersion,serverDate,isFRU,alias,bom,physicalFlag,deviceName,deviceIp,containedIn,cleiCode,mfgName,desc,name,hardVersion,remark,asset,model,assetNumber,serialNum,buildInfo,devId\n",
      "\"System Bootstrap, Version 12.4(13r)T11, RELEASE SOFTWARE (fc1)\",1.3.6.1.4.1.9.12.3.1.3.436,1,-1,FHK1119F1DX,3,\"15.1(4)M, RELEASE SOFTWARE (fc1)\",2016-01-26T15:20:40-05:00,2,,,0,router.lab.local,10.101.0.1,0,,Cisco,2811 chassis,2811 chassis,V04 ,,http://10.101.0.203:8080/imcrs/netasset/asset/detail?devId=15&phyIndex=1,CISCO2811,,FHK1119F1DX,,15\n",
      ",1.3.6.1.4.1.9.12.3.1.9.3.114,14,0,FOC11063NZ4,9,,2016-01-26T15:20:40-05:00,1,,,2,router.lab.local,10.101.0.1,13,,Cisco,2nd generation two port FXO voice interface daughtercard,2nd generation two port FXO voice interface daughtercard on Slot 0 SubSlot 2,V01 ,,http://10.101.0.203:8080/imcrs/netasset/asset/detail?devId=15&phyIndex=14,VIC2-2FXO,,FOC11063NZ4,,15\n",
      ",1.3.6.1.4.1.9.12.3.1.9.15.25,30,0,FOC11163P04,9,,2016-01-26T15:20:40-05:00,1,,,2,router.lab.local,10.101.0.1,29,,Cisco,40GB IDE Disc Daughter Card,40GB IDE Disc Daughter Card on Slot 1 SubSlot 0,,,http://10.101.0.203:8080/imcrs/netasset/asset/detail?devId=15&phyIndex=30, ,,FOC11163P04,,15\n",
      ",1.3.6.1.4.1.9.12.3.1.5.2,25,6,,5,,2016-01-26T15:20:40-05:00,2,,,0,router.lab.local,10.101.0.1,3,,Cisco,AIM Container Slot 0,AIM Container Slot 0,,,http://10.101.0.203:8080/imcrs/netasset/asset/detail?devId=15&phyIndex=25,,,,,15\n",
      ",1.3.6.1.4.1.9.12.3.1.5.2,26,7,,5,,2016-01-26T15:20:40-05:00,2,,,0,router.lab.local,10.101.0.1,3,,Cisco,AIM Container Slot 1,AIM Container Slot 1,,,http://10.101.0.203:8080/imcrs/netasset/asset/detail?devId=15&phyIndex=26,,,,,15\n",
      ",1.3.6.1.4.1.9.12.3.1.5.1,2,0,,5,,2016-01-26T15:20:40-05:00,2,,,0,router.lab.local,10.101.0.1,1,,Cisco,C2811 Chassis Slot,C2811 Chassis Slot 0,,,http://10.101.0.203:8080/imcrs/netasset/asset/detail?devId=15&phyIndex=2,,,,,15\n",
      ",1.3.6.1.4.1.9.12.3.1.5.1,27,1,,5,,2016-01-26T15:20:40-05:00,2,,,0,router.lab.local,10.101.0.1,1,,Cisco,C2811 Chassis Slot,C2811 Chassis Slot 1,,,http://10.101.0.203:8080/imcrs/netasset/asset/detail?devId=15&phyIndex=27,,,,,15\n",
      "\n"
     ]
    }
   ],
   "source": [
    "with open('ciscorouter.csv') as file:\n",
    "    print (file.read())"
   ]
  },
  {
   "cell_type": "markdown",
   "metadata": {},
   "source": [
    "# What about all my serial numbers at once?\n",
    "\n",
    "That's a great question! I'm glad you asked.  One of the most beautiful things about learning to automate things like asset gathering through an API is that it's often not much more work to do something 1000 times than it is to do it a single time. \n",
    "\n",
    "This time instead of using the *get_dev_asset_details* function that we used above which gets us all the assets associated with a single device, let's grab ALL the devices at once. "
   ]
  },
  {
   "cell_type": "code",
   "execution_count": 13,
   "metadata": {
    "collapsed": false
   },
   "outputs": [],
   "source": [
    "all_assets = get_dev_asset_details_all(auth.creds, auth.url)"
   ]
  },
  {
   "cell_type": "code",
   "execution_count": 14,
   "metadata": {
    "collapsed": false
   },
   "outputs": [
    {
     "data": {
      "text/plain": [
       "1013"
      ]
     },
     "execution_count": 14,
     "metadata": {},
     "output_type": "execute_result"
    }
   ],
   "source": [
    "len (all_assets)"
   ]
  },
  {
   "cell_type": "markdown",
   "metadata": {},
   "source": [
    "## That's a lot of assets!\n",
    "\n",
    "Exactly why we automate things. Now let's write the all_assets list to disk as well. \n",
    "\n",
    "**note for reasons unknown to me at this time, although the majority of the assets have 27 differnet fields, a few of them actually have 28 different attributes. Something I'll have to dig into later. "
   ]
  },
  {
   "cell_type": "code",
   "execution_count": 15,
   "metadata": {
    "collapsed": false
   },
   "outputs": [
    {
     "ename": "ValueError",
     "evalue": "dict contains fields not in fieldnames: 'beginDate'",
     "traceback": [
      "\u001b[0;31m---------------------------------------------------------------------------\u001b[0m",
      "\u001b[0;31mValueError\u001b[0m                                Traceback (most recent call last)",
      "\u001b[0;32m<ipython-input-15-e4c553049911>\u001b[0m in \u001b[0;36m<module>\u001b[0;34m()\u001b[0m\n\u001b[1;32m      3\u001b[0m     \u001b[0mdict_writer\u001b[0m \u001b[0;34m=\u001b[0m \u001b[0mcsv\u001b[0m\u001b[0;34m.\u001b[0m\u001b[0mDictWriter\u001b[0m\u001b[0;34m(\u001b[0m\u001b[0mfile\u001b[0m\u001b[0;34m,\u001b[0m \u001b[0mkeys\u001b[0m\u001b[0;34m)\u001b[0m\u001b[0;34m\u001b[0m\u001b[0m\n\u001b[1;32m      4\u001b[0m     \u001b[0mdict_writer\u001b[0m\u001b[0;34m.\u001b[0m\u001b[0mwriteheader\u001b[0m\u001b[0;34m(\u001b[0m\u001b[0;34m)\u001b[0m\u001b[0;34m\u001b[0m\u001b[0m\n\u001b[0;32m----> 5\u001b[0;31m     \u001b[0mdict_writer\u001b[0m\u001b[0;34m.\u001b[0m\u001b[0mwriterows\u001b[0m\u001b[0;34m(\u001b[0m\u001b[0mall_assets\u001b[0m\u001b[0;34m)\u001b[0m\u001b[0;34m\u001b[0m\u001b[0m\n\u001b[0m",
      "\u001b[0;32m/Library/Frameworks/Python.framework/Versions/3.4/lib/python3.4/csv.py\u001b[0m in \u001b[0;36mwriterows\u001b[0;34m(self, rowdicts)\u001b[0m\n\u001b[1;32m    156\u001b[0m         \u001b[0mrows\u001b[0m \u001b[0;34m=\u001b[0m \u001b[0;34m[\u001b[0m\u001b[0;34m]\u001b[0m\u001b[0;34m\u001b[0m\u001b[0m\n\u001b[1;32m    157\u001b[0m         \u001b[0;32mfor\u001b[0m \u001b[0mrowdict\u001b[0m \u001b[0;32min\u001b[0m \u001b[0mrowdicts\u001b[0m\u001b[0;34m:\u001b[0m\u001b[0;34m\u001b[0m\u001b[0m\n\u001b[0;32m--> 158\u001b[0;31m             \u001b[0mrows\u001b[0m\u001b[0;34m.\u001b[0m\u001b[0mappend\u001b[0m\u001b[0;34m(\u001b[0m\u001b[0mself\u001b[0m\u001b[0;34m.\u001b[0m\u001b[0m_dict_to_list\u001b[0m\u001b[0;34m(\u001b[0m\u001b[0mrowdict\u001b[0m\u001b[0;34m)\u001b[0m\u001b[0;34m)\u001b[0m\u001b[0;34m\u001b[0m\u001b[0m\n\u001b[0m\u001b[1;32m    159\u001b[0m         \u001b[0;32mreturn\u001b[0m \u001b[0mself\u001b[0m\u001b[0;34m.\u001b[0m\u001b[0mwriter\u001b[0m\u001b[0;34m.\u001b[0m\u001b[0mwriterows\u001b[0m\u001b[0;34m(\u001b[0m\u001b[0mrows\u001b[0m\u001b[0;34m)\u001b[0m\u001b[0;34m\u001b[0m\u001b[0m\n\u001b[1;32m    160\u001b[0m \u001b[0;34m\u001b[0m\u001b[0m\n",
      "\u001b[0;32m/Library/Frameworks/Python.framework/Versions/3.4/lib/python3.4/csv.py\u001b[0m in \u001b[0;36m_dict_to_list\u001b[0;34m(self, rowdict)\u001b[0m\n\u001b[1;32m    147\u001b[0m             \u001b[0;32mif\u001b[0m \u001b[0mwrong_fields\u001b[0m\u001b[0;34m:\u001b[0m\u001b[0;34m\u001b[0m\u001b[0m\n\u001b[1;32m    148\u001b[0m                 raise ValueError(\"dict contains fields not in fieldnames: \"\n\u001b[0;32m--> 149\u001b[0;31m                                  + \", \".join([repr(x) for x in wrong_fields]))\n\u001b[0m\u001b[1;32m    150\u001b[0m         \u001b[0;32mreturn\u001b[0m \u001b[0;34m[\u001b[0m\u001b[0mrowdict\u001b[0m\u001b[0;34m.\u001b[0m\u001b[0mget\u001b[0m\u001b[0;34m(\u001b[0m\u001b[0mkey\u001b[0m\u001b[0;34m,\u001b[0m \u001b[0mself\u001b[0m\u001b[0;34m.\u001b[0m\u001b[0mrestval\u001b[0m\u001b[0;34m)\u001b[0m \u001b[0;32mfor\u001b[0m \u001b[0mkey\u001b[0m \u001b[0;32min\u001b[0m \u001b[0mself\u001b[0m\u001b[0;34m.\u001b[0m\u001b[0mfieldnames\u001b[0m\u001b[0;34m]\u001b[0m\u001b[0;34m\u001b[0m\u001b[0m\n\u001b[1;32m    151\u001b[0m \u001b[0;34m\u001b[0m\u001b[0m\n",
      "\u001b[0;31mValueError\u001b[0m: dict contains fields not in fieldnames: 'beginDate'"
     ],
     "output_type": "error"
    }
   ],
   "source": [
    "keys = all_assets[0].keys()\n",
    "with open('all_assets.csv', 'w') as file:\n",
    "    dict_writer = csv.DictWriter(file, keys)\n",
    "    dict_writer.writeheader()\n",
    "    dict_writer.writerows(all_assets)"
   ]
  },
  {
   "cell_type": "markdown",
   "metadata": {},
   "source": [
    "## Well That's not good....\n",
    "\n",
    "So it looks like there are a few network assets that have a different number of attributes than the first one in the list. We'll write some quick code to figure out how big of a problem this is. "
   ]
  },
  {
   "cell_type": "code",
   "execution_count": 16,
   "metadata": {
    "collapsed": false
   },
   "outputs": [
    {
     "name": "stdout",
     "output_type": "stream",
     "text": [
      "The length of the first items keys is 27\n",
      "The length of index 39 is 28\n",
      "The length of index 41 is 28\n",
      "The length of index 42 is 28\n",
      "The length of index 474 is 28\n",
      "The length of index 497 is 28\n",
      "The length of index 569 is 28\n",
      "The length of index 570 is 28\n",
      "The length of index 585 is 28\n",
      "The length of index 604 is 28\n",
      "The length of index 605 is 28\n",
      "The length of index 879 is 28\n",
      "The length of index 880 is 28\n",
      "The length of index 881 is 28\n",
      "The length of index 882 is 28\n",
      "The length of index 883 is 28\n",
      "The length of index 884 is 28\n",
      "The length of index 885 is 28\n",
      "The length of index 886 is 28\n"
     ]
    }
   ],
   "source": [
    "print (\"The length of the first items keys is \" + str(len(keys)))\n",
    "for i in all_assets:\n",
    "    if len(i) != len(all_assets[0].keys()):\n",
    "       print (\"The length of index \" + str(all_assets.index(i)) + \" is \" + str(len(i.keys())))"
   ]
  },
  {
   "cell_type": "markdown",
   "metadata": {},
   "source": [
    "## Well that's not so bad\n",
    "\n",
    "It looks like the items which don't have exactly 27 attribues have exactly 28 attributes. So we'll just pick one of the longer ones to use as the headers for our CSV file and then run the script again.\n",
    "\n",
    "For this one, I'm going to ask you to trust me that the file is on disk and save us all the trouble of having to print out 1013 seperate assets into this blog post. \n",
    "\n",
    "\n"
   ]
  },
  {
   "cell_type": "code",
   "execution_count": 18,
   "metadata": {
    "collapsed": false
   },
   "outputs": [],
   "source": [
    "keys = all_assets[879].keys()\n",
    "with open ('all_assets.csv', 'w') as file:\n",
    "    dict_writer = csv.DictWriter(file, keys)\n",
    "    dict_writer.writeheader()\n",
    "    dict_writer.writerows(all_assets)"
   ]
  },
  {
   "cell_type": "markdown",
   "metadata": {
    "collapsed": true
   },
   "source": [
    "# What's next?\n",
    "\n",
    "So now that we've got all of our assets into a CSV file which is easily consumable by something like Excel, you can now chose what to do with the data.\n",
    "\n",
    "For me it's interesting to see how vendors internalyl instrument their boxes. Some have serial numbers on power supplies and fans, some don't. Some use the standard way of doing things. Some don't. \n",
    "\n",
    "From an operations perspective, not all gear is created equal and it's nice to understand what's supported when trying to make a purchasing choice for something you're going to have to live with for the next few years. \n",
    "\n",
    "If you're looking at your annual SMARTnet upgrade, at least you've now got a way to easily audit all of your discovered environment and figure out what line cards need to be tied to a particualr contract.\n",
    "\n",
    "Or you could just look at another vendor who makes your life easier. Entirely your choice. \n",
    "\n",
    "@netmanchris"
   ]
  }
 ],
 "metadata": {
  "kernelspec": {
   "display_name": "Python 3",
   "language": "python",
   "name": "python3"
  },
  "language_info": {
   "codemirror_mode": {
    "name": "ipython",
    "version": 3.0
   },
   "file_extension": ".py",
   "mimetype": "text/x-python",
   "name": "python",
   "nbconvert_exporter": "python",
   "pygments_lexer": "ipython3",
   "version": "3.4.3"
  }
 },
 "nbformat": 4,
 "nbformat_minor": 0
}