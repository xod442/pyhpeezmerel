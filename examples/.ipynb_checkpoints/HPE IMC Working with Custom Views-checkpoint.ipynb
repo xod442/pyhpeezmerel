{
 "cells": [
  {
   "cell_type": "code",
   "execution_count": 1,
   "metadata": {
    "collapsed": false
   },
   "outputs": [
    {
     "data": {
      "text/html": [
       "<style>\n",
       "table {float:left}\n",
       "</style>"
      ],
      "text/plain": [
       "<IPython.core.display.HTML object>"
      ]
     },
     "metadata": {},
     "output_type": "display_data"
    }
   ],
   "source": [
    "%%html\n",
    "<style>\n",
    "table {float:left}\n",
    "</style>"
   ]
  },
  {
   "cell_type": "markdown",
   "metadata": {},
   "source": [
    "# **Working with HPE IMC API for Custom Views**\n",
    "\n",
    "In this notebook, we will be covering the basics of using the pyhpimc python module to access the RESTFUL interface ( *eAPI* ) of the HPE IMC Network Management Server. \n",
    "\n",
    "The python library is currently available at [HPE Github repository](https://github.com/HPENetworking/HP-Intelligent-Management-Center/blob/master/README.md)"
   ]
  },
  {
   "cell_type": "markdown",
   "metadata": {},
   "source": [
    "## Import Required Modules from pyhpeimc\n",
    "Before we get started, we must import the required libraries into the ipython interpreter . For this notebook, you will require the Auth and Operator modules from the pyhpimc library, as well as the standard csv module. "
   ]
  },
  {
   "cell_type": "code",
   "execution_count": 7,
   "metadata": {
    "collapsed": false
   },
   "outputs": [],
   "source": [
    "import csv\n",
    "import time\n",
    "from pyhpeimc.auth import *\n",
    "from pyhpeimc.plat.groups import *\n",
    "from pyhpeimc.version import *"
   ]
  },
  {
   "cell_type": "code",
   "execution_count": 8,
   "metadata": {
    "collapsed": false
   },
   "outputs": [
    {
     "data": {
      "text/plain": [
       "36"
      ]
     },
     "execution_count": 8,
     "metadata": {},
     "output_type": "execute_result"
    }
   ],
   "source": [
    "2+34"
   ]
  },
  {
   "cell_type": "markdown",
   "metadata": {},
   "source": [
    "## Input IMC Credentials\n",
    "\n",
    "In this section, we will first create a authentication object which will contain\n",
    "\n",
    "- the protocol\n",
    "- ip address\n",
    "- port number\n",
    "- username\n",
    "- password\n",
    "\n",
    "If you are running this on your local network, please change the appropriate values in the following field to connect to your local IMC server. "
   ]
  },
  {
   "cell_type": "code",
   "execution_count": 10,
   "metadata": {
    "collapsed": true
   },
   "outputs": [],
   "source": [
    "auth = IMCAuth(\"http://\", \"10.101.0.203\", \"8080\", \"admin\", \"admin\")\n"
   ]
  },
  {
   "cell_type": "markdown",
   "metadata": {},
   "source": [
    "## Create Print View List Helper Function\n",
    "\n",
    "This function will gather the current list of custom views from the HPE IMC NMS and print them out to the screen."
   ]
  },
  {
   "cell_type": "code",
   "execution_count": 11,
   "metadata": {
    "collapsed": true
   },
   "outputs": [],
   "source": [
    "def print_views():\n",
    "    views_list = get_custom_views(url=auth.url, auth=auth.creds)\n",
    "    print (\"There are a total of \" + str(len(views_list)) + \" views currently\")\n",
    "    for view in views_list:\n",
    "        print (view['name'])\n",
    "    print (json.dumps(views_list[0], indent = 4))"
   ]
  },
  {
   "cell_type": "markdown",
   "metadata": {},
   "source": [
    "## Display the current views\n",
    "\n",
    "This section will count the total number of existing views as well as display the first view returned.\n",
    "\n",
    "Notice the 'upLevelSymbolId\" is **3** for this custom view. The three designates that this is a level one custom view, meaning that it's at the root of the custom view tree."
   ]
  },
  {
   "cell_type": "code",
   "execution_count": 12,
   "metadata": {
    "collapsed": false
   },
   "outputs": [
    {
     "name": "stdout",
     "output_type": "stream",
     "text": [
      "There are a total of 103 views currently\n",
      "Branch1\n",
      "Branch10\n",
      "Branch100\n",
      "Branch11\n",
      "Branch12\n",
      "Branch13\n",
      "Branch14\n",
      "Branch15\n",
      "Branch16\n",
      "Branch17\n",
      "Branch18\n",
      "Branch19\n",
      "Branch2\n",
      "Branch20\n",
      "Branch21\n",
      "Branch22\n",
      "Branch23\n",
      "Branch24\n",
      "Branch25\n",
      "Branch26\n",
      "Branch27\n",
      "Branch28\n",
      "Branch29\n",
      "Branch3\n",
      "Branch30\n",
      "Branch31\n",
      "Branch32\n",
      "Branch33\n",
      "Branch34\n",
      "Branch35\n",
      "Branch36\n",
      "Branch37\n",
      "Branch38\n",
      "Branch39\n",
      "Branch4\n",
      "Branch40\n",
      "Branch41\n",
      "Branch42\n",
      "Branch43\n",
      "Branch44\n",
      "Branch45\n",
      "Branch46\n",
      "Branch47\n",
      "Branch48\n",
      "Branch49\n",
      "Branch5\n",
      "Branch50\n",
      "Branch51\n",
      "Branch52\n",
      "Branch53\n",
      "Branch54\n",
      "Branch55\n",
      "Branch56\n",
      "Branch57\n",
      "Branch58\n",
      "Branch59\n",
      "Branch6\n",
      "Branch60\n",
      "Branch61\n",
      "Branch62\n",
      "Branch63\n",
      "Branch64\n",
      "Branch65\n",
      "Branch66\n",
      "Branch67\n",
      "Branch68\n",
      "Branch69\n",
      "Branch7\n",
      "Branch70\n",
      "Branch71\n",
      "Branch72\n",
      "Branch73\n",
      "Branch74\n",
      "Branch75\n",
      "Branch76\n",
      "Branch77\n",
      "Branch78\n",
      "Branch79\n",
      "Branch8\n",
      "Branch80\n",
      "Branch81\n",
      "Branch82\n",
      "Branch83\n",
      "Branch84\n",
      "Branch85\n",
      "Branch86\n",
      "Branch87\n",
      "Branch88\n",
      "Branch89\n",
      "Branch9\n",
      "Branch90\n",
      "Branch91\n",
      "Branch92\n",
      "Branch93\n",
      "Branch94\n",
      "Branch95\n",
      "Branch96\n",
      "Branch97\n",
      "Branch98\n",
      "Branch99\n",
      "Branches\n",
      "My Network View\n",
      "WAN\n",
      "{\n",
      "    \"statusDesc\": \"Unmanaged\",\n",
      "    \"symbolId\": \"2850\",\n",
      "    \"name\": \"Branch1\",\n",
      "    \"upLevelSymbolId\": \"2849\",\n",
      "    \"runStatus\": \"-1\",\n",
      "    \"statusImgSrc\": \"res/icon_custom_view_unmanaged_16x16.png\"\n",
      "}\n"
     ]
    }
   ],
   "source": [
    "print_views()"
   ]
  },
  {
   "cell_type": "markdown",
   "metadata": {},
   "source": [
    "![Default Custom Views](./images/customviews1.png \"Default Custom Views\")"
   ]
  },
  {
   "cell_type": "markdown",
   "metadata": {},
   "source": [
    "## Create New Custom View\n",
    "\n",
    "In this step, we will create two custom views **Canada** and **Alberta** using the create_custom_views() function.\n",
    "\n",
    "For this example, we will create \n",
    "- the **Canada** view which is a L1 custom view\n",
    "- the **Alberta** custom view which will be a child of the **Canada** Custom view.\n",
    "- the **Calgary** custom view which will be a child of the **Alberta** Custom View\n",
    "\n",
    "|Name| Upperview |\n",
    "|:-----|-----|\n",
    "|Canada|     |\n",
    "|Alberta| Canada |\n",
    "|Calgary | Alberta |"
   ]
  },
  {
   "cell_type": "code",
   "execution_count": null,
   "metadata": {
    "collapsed": true
   },
   "outputs": [],
   "source": []
  },
  {
   "cell_type": "code",
   "execution_count": 25,
   "metadata": {
    "collapsed": false
   },
   "outputs": [
    {
     "name": "stdout",
     "output_type": "stream",
     "text": [
      "There are a total of 4 views currently\n",
      "Alberta\n",
      "Calgary\n",
      "Canada\n",
      "My Network View\n",
      "{\n",
      "    \"name\": \"Alberta\",\n",
      "    \"runStatus\": \"-1\",\n",
      "    \"statusImgSrc\": \"res/icon_custom_view_unmanaged_16x16.png\",\n",
      "    \"upLevelSymbolId\": \"2828\",\n",
      "    \"symbolId\": \"2829\",\n",
      "    \"statusDesc\": \"Unmanaged\"\n",
      "}\n"
     ]
    }
   ],
   "source": [
    "create_custom_views(auth=auth.creds, url=auth.url, name=\"Canada\")\n",
    "create_custom_views(auth=auth.creds, url=auth.url, name=\"Alberta\",upperview='Canada')\n",
    "create_custom_views(auth=auth.creds, url=auth.url, name=\"Calgary\",upperview='Alberta')\n",
    "\n",
    "\n",
    "print_views()"
   ]
  },
  {
   "cell_type": "markdown",
   "metadata": {},
   "source": [
    "![Manual Custom Views](./images/customviews2.png \"Manual Custom Views\")"
   ]
  },
  {
   "cell_type": "markdown",
   "metadata": {},
   "source": [
    "### Canada View\n",
    "\n",
    "Notice that the **upLevelSymbolId** for this view is the same as the default **My Network View** shown above. We can see that this is a L1 custom view. "
   ]
  },
  {
   "cell_type": "code",
   "execution_count": 8,
   "metadata": {
    "collapsed": false
   },
   "outputs": [
    {
     "data": {
      "text/plain": [
       "[{'name': 'Canada',\n",
       "  'runStatus': '-1',\n",
       "  'statusDesc': 'Unmanaged',\n",
       "  'statusImgSrc': 'res/icon_custom_view_unmanaged_16x16.png',\n",
       "  'symbolId': '1862'}]"
      ]
     },
     "execution_count": 8,
     "metadata": {},
     "output_type": "execute_result"
    }
   ],
   "source": [
    "get_custom_views(url=auth.url, auth=auth.creds, name=\"Canada\")"
   ]
  },
  {
   "cell_type": "markdown",
   "metadata": {},
   "source": [
    "### Alberta View\n",
    "\n",
    "Notice that **upLevelSymbolId** for this view is equal to the **symbolId** of the **Canada** view shown in the previous example. we can see that this is a child of the Canada Custom View."
   ]
  },
  {
   "cell_type": "code",
   "execution_count": 9,
   "metadata": {
    "collapsed": false
   },
   "outputs": [
    {
     "data": {
      "text/plain": [
       "[{'name': 'Alberta',\n",
       "  'runStatus': '-1',\n",
       "  'statusDesc': 'Unmanaged',\n",
       "  'statusImgSrc': 'res/icon_custom_view_unmanaged_16x16.png',\n",
       "  'symbolId': '1863'}]"
      ]
     },
     "execution_count": 9,
     "metadata": {},
     "output_type": "execute_result"
    }
   ],
   "source": [
    "get_custom_views(url=auth.url, auth=auth.creds, name=\"Alberta\")"
   ]
  },
  {
   "cell_type": "markdown",
   "metadata": {},
   "source": [
    "### Calgary View\n",
    "\n",
    "Notice that **upLevelSymbolId** for this view is equal to the **symbolId** of the **Alberta** view shown in the previous example. we can see that this is a child of the Canada Custom View."
   ]
  },
  {
   "cell_type": "code",
   "execution_count": 10,
   "metadata": {
    "collapsed": false
   },
   "outputs": [
    {
     "data": {
      "text/plain": [
       "[{'name': 'Calgary',\n",
       "  'runStatus': '-1',\n",
       "  'statusDesc': 'Unmanaged',\n",
       "  'statusImgSrc': 'res/icon_custom_view_unmanaged_16x16.png',\n",
       "  'symbolId': '1864'}]"
      ]
     },
     "execution_count": 10,
     "metadata": {},
     "output_type": "execute_result"
    }
   ],
   "source": [
    "get_custom_views(url=auth.url, auth=auth.creds, name=\"Calgary\")"
   ]
  },
  {
   "cell_type": "markdown",
   "metadata": {},
   "source": [
    "## Deleting Custom Views\n",
    "\n",
    "In this section we will delete individual custom views."
   ]
  },
  {
   "cell_type": "code",
   "execution_count": 26,
   "metadata": {
    "collapsed": false
   },
   "outputs": [
    {
     "name": "stdout",
     "output_type": "stream",
     "text": [
      "There are a total of 1 views currently\n",
      "My Network View\n",
      "{\n",
      "    \"name\": \"My Network View\",\n",
      "    \"runStatus\": \"5\",\n",
      "    \"statusImgSrc\": \"res/icon_custom_view_critical_16x16.png\",\n",
      "    \"upLevelSymbolId\": \"3\",\n",
      "    \"symbolId\": \"2777\",\n",
      "    \"statusDesc\": \"Critical\"\n",
      "}\n"
     ]
    }
   ],
   "source": [
    "delete_custom_view(url=auth.url, auth=auth.creds, name='Canada')\n",
    "delete_custom_view(url=auth.url, auth=auth.creds, name='Alberta')\n",
    "delete_custom_view(url=auth.url, auth=auth.creds, name='Calgary')\n",
    "print_views()"
   ]
  },
  {
   "cell_type": "markdown",
   "metadata": {},
   "source": [
    "![Deleted Custom Views](./images/customviews4.png \"Deleted Custom Views\")"
   ]
  },
  {
   "cell_type": "markdown",
   "metadata": {},
   "source": [
    "# Display Contents of Custom Views.csv\n",
    "\n",
    "We have prepared a CSV file which contains the new custom views that we wish to create. This can contain both parent and child custom views. \n",
    "\n",
    "| name | upperview |\n",
    "| ------ | ----------- |\n",
    "| Branches   |   |\n",
    "| Branch1 | Branches |\n",
    "| Branch2    | Branches |\n",
    "| WAN      |            |"
   ]
  },
  {
   "cell_type": "code",
   "execution_count": 4,
   "metadata": {
    "collapsed": false
   },
   "outputs": [
    {
     "name": "stdout",
     "output_type": "stream",
     "text": [
      "name,upperview\n",
      "Branches,\n",
      "Branch1,Branches\n",
      "Branch2,Branches\n",
      "WAN,\n",
      "Branch3,\n",
      "Branch4,\n",
      "Branch5,\n",
      "Branch6,\n",
      "Branch7,\n",
      "Branch8,\n",
      "Branch9,\n",
      "Branch10,\n",
      "Branch11,\n",
      "Branch12,\n",
      "Branch13,\n",
      "Branch14,\n",
      "Branch15,\n",
      "Branch16,\n",
      "Branch17,\n",
      "Branch18,\n",
      "Branch19,\n",
      "Branch20,\n",
      "Branch21,\n",
      "Branch22,\n",
      "Branch23,\n",
      "Branch24,\n",
      "Branch25,\n",
      "Branch26,\n",
      "Branch27,\n",
      "Branch28,\n",
      "Branch29,\n",
      "Branch30,\n",
      "Branch31,\n",
      "Branch32,\n",
      "Branch33,\n",
      "Branch34,\n",
      "Branch35,\n",
      "Branch36,\n",
      "Branch37,\n",
      "Branch38,\n",
      "Branch39,\n",
      "Branch40,\n",
      "Branch41,\n",
      "Branch42,\n",
      "Branch43,\n",
      "Branch44,\n",
      "Branch45,\n",
      "Branch46,\n",
      "Branch47,\n",
      "Branch48,\n",
      "Branch49,\n",
      "Branch50,\n",
      "Branch51,\n",
      "Branch52,\n",
      "Branch53,\n",
      "Branch54,\n",
      "Branch55,\n",
      "Branch56,\n",
      "Branch57,\n",
      "Branch58,\n",
      "Branch59,\n",
      "Branch60,\n",
      "Branch61,\n",
      "Branch62,\n",
      "Branch63,\n",
      "Branch64,\n",
      "Branch65,\n",
      "Branch66,\n",
      "Branch67,\n",
      "Branch68,\n",
      "Branch69,\n",
      "Branch70,\n",
      "Branch71,\n",
      "Branch72,\n",
      "Branch73,\n",
      "Branch74,\n",
      "Branch75,\n",
      "Branch76,\n",
      "Branch77,\n",
      "Branch78,\n",
      "Branch79,\n",
      "Branch80,\n",
      "Branch81,\n",
      "Branch82,\n",
      "Branch83,\n",
      "Branch84,\n",
      "Branch85,\n",
      "Branch86,\n",
      "Branch87,\n",
      "Branch88,\n",
      "Branch89,\n",
      "Branch90,\n",
      "Branch91,\n",
      "Branch92,\n",
      "Branch93,\n",
      "Branch94,\n",
      "Branch95,\n",
      "Branch96,\n",
      "Branch97,\n",
      "Branch98,\n",
      "Branch99,\n",
      "Branch100,\n"
     ]
    }
   ],
   "source": [
    "with open('custom_views.csv') as f:\n",
    "    s = f.read()\n",
    "    print (s)"
   ]
  },
  {
   "cell_type": "markdown",
   "metadata": {},
   "source": [
    "# Create Import Custom Views Function\n",
    "\n",
    "Here we create a new function which will take a CSV file shown above as an input to the create_custom_views function"
   ]
  },
  {
   "cell_type": "code",
   "execution_count": 14,
   "metadata": {
    "collapsed": true
   },
   "outputs": [],
   "source": [
    "def import_custom_views(filename):\n",
    "    \"\"\"\n",
    "    Function which takes in a csv files as input to the create_custom_views function from the pyhpimc python module\n",
    "    available at https://github.com/HPNetworking/HP-Intelligent-Management-Center\n",
    "    :param filename: user-defined filename which contains two column named \"name\" and \"upperview\" as input into the\n",
    "    create_custom_views function from the pyhpimc module.\n",
    "    :return: returns output of the create_custom_vies function (str) for each item in the CSV file.\n",
    "    \"\"\"\n",
    "    with open(filename) as csvfile:\n",
    "        # decodes file as csv as a python dictionary\n",
    "        reader = csv.DictReader(csvfile)\n",
    "        for view in reader:\n",
    "            # loads each row of the CSV as a JSON string\n",
    "            name = view['name']\n",
    "            upperview = view['upperview']\n",
    "            if len(upperview) is 0:\n",
    "                upperview = None\n",
    "            create_custom_views(auth=auth.creds, url=auth.url,name=name,upperview=upperview)"
   ]
  },
  {
   "cell_type": "markdown",
   "metadata": {},
   "source": [
    "# Import Custom Views from CSV File"
   ]
  },
  {
   "cell_type": "code",
   "execution_count": 15,
   "metadata": {
    "collapsed": false
   },
   "outputs": [
    {
     "name": "stdout",
     "output_type": "stream",
     "text": [
      "--- 9.328416109085083 seconds ---\n"
     ]
    }
   ],
   "source": [
    "start_time = time.time()\n",
    "import_custom_views('custom_views.csv')\n",
    "print(\"--- %s seconds ---\" % (time.time() - start_time))"
   ]
  },
  {
   "cell_type": "code",
   "execution_count": 16,
   "metadata": {
    "collapsed": false
   },
   "outputs": [
    {
     "name": "stdout",
     "output_type": "stream",
     "text": [
      "There are a total of 103 views currently\n",
      "Branch1\n",
      "Branch10\n",
      "Branch100\n",
      "Branch11\n",
      "Branch12\n",
      "Branch13\n",
      "Branch14\n",
      "Branch15\n",
      "Branch16\n",
      "Branch17\n",
      "Branch18\n",
      "Branch19\n",
      "Branch2\n",
      "Branch20\n",
      "Branch21\n",
      "Branch22\n",
      "Branch23\n",
      "Branch24\n",
      "Branch25\n",
      "Branch26\n",
      "Branch27\n",
      "Branch28\n",
      "Branch29\n",
      "Branch3\n",
      "Branch30\n",
      "Branch31\n",
      "Branch32\n",
      "Branch33\n",
      "Branch34\n",
      "Branch35\n",
      "Branch36\n",
      "Branch37\n",
      "Branch38\n",
      "Branch39\n",
      "Branch4\n",
      "Branch40\n",
      "Branch41\n",
      "Branch42\n",
      "Branch43\n",
      "Branch44\n",
      "Branch45\n",
      "Branch46\n",
      "Branch47\n",
      "Branch48\n",
      "Branch49\n",
      "Branch5\n",
      "Branch50\n",
      "Branch51\n",
      "Branch52\n",
      "Branch53\n",
      "Branch54\n",
      "Branch55\n",
      "Branch56\n",
      "Branch57\n",
      "Branch58\n",
      "Branch59\n",
      "Branch6\n",
      "Branch60\n",
      "Branch61\n",
      "Branch62\n",
      "Branch63\n",
      "Branch64\n",
      "Branch65\n",
      "Branch66\n",
      "Branch67\n",
      "Branch68\n",
      "Branch69\n",
      "Branch7\n",
      "Branch70\n",
      "Branch71\n",
      "Branch72\n",
      "Branch73\n",
      "Branch74\n",
      "Branch75\n",
      "Branch76\n",
      "Branch77\n",
      "Branch78\n",
      "Branch79\n",
      "Branch8\n",
      "Branch80\n",
      "Branch81\n",
      "Branch82\n",
      "Branch83\n",
      "Branch84\n",
      "Branch85\n",
      "Branch86\n",
      "Branch87\n",
      "Branch88\n",
      "Branch89\n",
      "Branch9\n",
      "Branch90\n",
      "Branch91\n",
      "Branch92\n",
      "Branch93\n",
      "Branch94\n",
      "Branch95\n",
      "Branch96\n",
      "Branch97\n",
      "Branch98\n",
      "Branch99\n",
      "Branches\n",
      "My Network View\n",
      "WAN\n",
      "{\n",
      "    \"statusDesc\": \"Unmanaged\",\n",
      "    \"symbolId\": \"2850\",\n",
      "    \"name\": \"Branch1\",\n",
      "    \"upLevelSymbolId\": \"2849\",\n",
      "    \"runStatus\": \"-1\",\n",
      "    \"statusImgSrc\": \"res/icon_custom_view_unmanaged_16x16.png\"\n",
      "}\n",
      "There are a total of 103 views currently\n"
     ]
    }
   ],
   "source": [
    "views_list = get_custom_views(url=auth.url, auth=auth.creds)\n",
    "print_views()\n",
    "print (\"There are a total of \" + str(len(views_list)) + \" views currently\")"
   ]
  },
  {
   "cell_type": "markdown",
   "metadata": {},
   "source": [
    "# Cleaning up After Ourselves"
   ]
  },
  {
   "cell_type": "code",
   "execution_count": 17,
   "metadata": {
    "collapsed": true
   },
   "outputs": [],
   "source": [
    "def delete_custom_views_csv(filename):\n",
    "    \"\"\"\n",
    "    Function which takes in a csv files as input to the delete_custom_view function from the pyhpeimc python module\n",
    "    available at https://github.com/HPENetworking/HP-Intelligent-Management-Center\n",
    "    :param filename: user-defined filename which contains two column named \"name\" and \"upperview\" as input into the\n",
    "    create_custom_views function from the pyhpimc module.\n",
    "    :return: returns output of the create_custom_vies function (str) for each item in the CSV file.\n",
    "    \"\"\"\n",
    "    with open(filename) as csvfile:\n",
    "        # decodes file as csv as a python dictionary\n",
    "        reader = csv.DictReader(csvfile)\n",
    "        for view in reader:\n",
    "            # loads each row of the CSV as a JSON string\n",
    "            name = view['name']\n",
    "            delete_custom_view(url=auth.url, auth=auth.creds, name=name)"
   ]
  },
  {
   "cell_type": "code",
   "execution_count": 18,
   "metadata": {
    "collapsed": false
   },
   "outputs": [
    {
     "name": "stdout",
     "output_type": "stream",
     "text": [
      "--- 31.41563606262207 seconds ---\n"
     ]
    }
   ],
   "source": [
    "start_time = time.time()\n",
    "delete_custom_views_csv('custom_views.csv')\n",
    "print(\"--- %s seconds ---\" % (time.time() - start_time))"
   ]
  },
  {
   "cell_type": "code",
   "execution_count": null,
   "metadata": {
    "collapsed": true
   },
   "outputs": [],
   "source": []
  }
 ],
 "metadata": {
  "kernelspec": {
   "display_name": "Python 3",
   "language": "python",
   "name": "python3"
  },
  "language_info": {
   "codemirror_mode": {
    "name": "ipython",
    "version": 3
   },
   "file_extension": ".py",
   "mimetype": "text/x-python",
   "name": "python",
   "nbconvert_exporter": "python",
   "pygments_lexer": "ipython3",
   "version": "3.4.3"
  }
 },
 "nbformat": 4,
 "nbformat_minor": 0
}
