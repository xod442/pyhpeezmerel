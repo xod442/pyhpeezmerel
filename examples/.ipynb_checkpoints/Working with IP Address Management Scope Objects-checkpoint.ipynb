{
 "cells": [
  {
   "cell_type": "code",
   "execution_count": 1,
   "metadata": {
    "collapsed": false
   },
   "outputs": [
    {
     "data": {
      "text/html": [
       "<style>\n",
       "table {float:left}\n",
       "</style>"
      ],
      "text/plain": [
       "<IPython.core.display.HTML object>"
      ]
     },
     "metadata": {},
     "output_type": "display_data"
    }
   ],
   "source": [
    "%%html\n",
    "<style>\n",
    "table {float:left}\n",
    "</style>"
   ]
  },
  {
   "cell_type": "markdown",
   "metadata": {},
   "source": [
    "# Working with IP Scope Objects\n",
    "\n",
    "So now we're going to look at the recently implemented IP Scope Objects and supporting capabilities in the pyhpeimc library"
   ]
  },
  {
   "cell_type": "code",
   "execution_count": 2,
   "metadata": {
    "collapsed": false
   },
   "outputs": [],
   "source": [
    "import csv\n",
    "import time\n",
    "from pyhpeimc.auth import *\n",
    "from pyhpeimc.objects import *"
   ]
  },
  {
   "cell_type": "code",
   "execution_count": 3,
   "metadata": {
    "collapsed": true
   },
   "outputs": [],
   "source": [
    "auth = IMCAuth(\"http://\", \"10.101.0.203\", \"8080\", \"admin\", \"admin\")"
   ]
  },
  {
   "cell_type": "markdown",
   "metadata": {},
   "source": [
    "## Viewing the Parent Scope\n",
    "\n",
    "Say we have an existing IP address scope in the HPE IMC server. You would find this under the Reource > Terminal Access > IP Address Allocation page. We've got a pretty typical setup here where we've got a large parent scope which is assigned to a large IP address range specifically a /16 ( 255.255.0.0 ).  This gives us a LOT of ip addresses to work with for this site, but it probably needs to be broken down into child segments which are simply IP networks which fit into the parent range. \n",
    "\n",
    "For our examples, we're going to be looking at the 10.101.0.0/16 parent range and the child of 10.101.0.0/24 which, of course, fits cleanly inside the parent range. Everyone remembers basic subneting right? \n",
    "\n",
    "Cool.\n",
    "\n",
    "The first thing we're going to do is to create our first parent object. To do this we will instantiate a new instance of the IPScope class, passing it the parent subnet, and the creds and url attributes from the auth object we created above."
   ]
  },
  {
   "cell_type": "code",
   "execution_count": 4,
   "metadata": {
    "collapsed": true
   },
   "outputs": [],
   "source": [
    "mainscope = IPScope('10.101.0.0/16', auth.creds, auth.url)"
   ]
  },
  {
   "cell_type": "markdown",
   "metadata": {},
   "source": [
    "### What can we do with this?\n",
    "\n",
    "Now that the object exists, it's got a bunch of attributes and methods which we can play around with.  Remember, you can always dir(object) in python to be able to see what attributes and methods are available for a given object. Never a bad thing if you're just poking around or a little bit forgetful. \n",
    "\n",
    "For this object, we're just going to get right into it and print off some of the attributes."
   ]
  },
  {
   "cell_type": "code",
   "execution_count": 5,
   "metadata": {
    "collapsed": false
   },
   "outputs": [
    {
     "name": "stdout",
     "output_type": "stream",
     "text": [
      "10.101.0.1\n",
      "10.101.254.254\n",
      "48\n",
      "10.101.0.0/16\n"
     ]
    }
   ],
   "source": [
    "print (mainscope.startip)\n",
    "print (mainscope.endip)\n",
    "print (mainscope.id)\n",
    "print (mainscope.netaddr)\n"
   ]
  },
  {
   "cell_type": "markdown",
   "metadata": {},
   "source": [
    "As you can see, the starting address for this scope is 10.101.0.1 and the last address is 10.101.254.254. This is exactly what you would expect for a /16 right?\n",
    "\n",
    "We can also see the id, which is going to be used internally by the python library and the IMC REST API to be able to identify the specific scope we want to work with.\n",
    "\n",
    "The last attribute is simply the network address of the object. Always good to make sure that we did what we thought we wanted to do. \n",
    "\n",
    "Remember I said above that this Parent scope had some child scopes underneath it? Let's take a look at one of those."
   ]
  },
  {
   "cell_type": "code",
   "execution_count": 6,
   "metadata": {
    "collapsed": false
   },
   "outputs": [
    {
     "name": "stdout",
     "output_type": "stream",
     "text": [
      " There are: 4 children scopes \n",
      "\n",
      " Let's look at the first one \n",
      "\n"
     ]
    },
    {
     "data": {
      "text/plain": [
       "{'description': 'default production segment',\n",
       " 'endIp': '10.101.0.254',\n",
       " 'id': '67',\n",
       " 'ip': '10.101.0.1-10.101.0.254',\n",
       " 'name': 'cyoung',\n",
       " 'parentId': '48',\n",
       " 'percent': '0.40551181102362205',\n",
       " 'percentStr': '40.55%',\n",
       " 'rightIpId': '48',\n",
       " 'startIp': '10.101.0.1'}"
      ]
     },
     "execution_count": 6,
     "metadata": {},
     "output_type": "execute_result"
    }
   ],
   "source": [
    "print (\" There are: \" + str(len(mainscope.child)) + \" children scopes \\n\\n Let's look at the first one \\n\")\n",
    "mainscope.child[0]"
   ]
  },
  {
   "cell_type": "markdown",
   "metadata": {},
   "source": [
    "## A Child is a beautiful thing\n",
    "\n",
    "We can see that the first child, (remember python starts counting at 0 right?), has the range 10.101.0.0/24.  Let's go ahead and create a new childscope object to check it out."
   ]
  },
  {
   "cell_type": "code",
   "execution_count": 7,
   "metadata": {
    "collapsed": false
   },
   "outputs": [],
   "source": [
    "childscope = IPScope('10.101.0.0/24', auth.creds, auth.url)"
   ]
  },
  {
   "cell_type": "code",
   "execution_count": 8,
   "metadata": {
    "collapsed": false
   },
   "outputs": [
    {
     "name": "stdout",
     "output_type": "stream",
     "text": [
      "10.101.0.1\n",
      "10.101.0.254\n",
      "67\n",
      "10.101.0.0/24\n"
     ]
    }
   ],
   "source": [
    "print (childscope.startip)\n",
    "print (childscope.endip)\n",
    "print (childscope.id)\n",
    "print (childscope.netaddr)"
   ]
  },
  {
   "cell_type": "markdown",
   "metadata": {},
   "source": [
    "## Not the same thing\n",
    "\n",
    "You can clearly see that the new childscope object has the starting ip of 10.101.0.1 and the ending ip of 10.101.0.254.  You can also see that the id of this is different that the parentscope, which means that they are clearly two different objects. \n",
    "\n",
    "Now that we've got a much smaller range, let's take a look at some of the additional methods that are available for any IPScope object. \n",
    "\n",
    "For example, maybe you want to know the next unassigned IP address range in your scope. You could use the nextfreeip method to be able to pull the next unassigned IP address from the eligible hosts in that specific IP Scope. \n",
    "\n",
    "Let's try that now:"
   ]
  },
  {
   "cell_type": "code",
   "execution_count": 9,
   "metadata": {
    "collapsed": false
   },
   "outputs": [
    {
     "data": {
      "text/plain": [
       "IPv4Address('10.101.0.3')"
      ]
     },
     "execution_count": 9,
     "metadata": {},
     "output_type": "execute_result"
    }
   ],
   "source": [
    "childscope.nextfreeip()"
   ]
  },
  {
   "cell_type": "markdown",
   "metadata": {},
   "source": [
    "So we can clearly see that the next available IP address is 10.101.0.3 in this /24. Right?\n",
    "\n",
    "Maybe we have a brand new piece of kit for our lab and we need to assign a management IP address for it in this range, well now we have the IP address without having to check out any spreadsheets, although you MAY want to PING the address just to make sure your co-worker didn't forget to update the database, cause you would NEVER do that, right?\n",
    "\n",
    "Now that we've got the new address, let's immediately allocate it in the pool so that we don't cause any problems for co-workers in the future."
   ]
  },
  {
   "cell_type": "code",
   "execution_count": 12,
   "metadata": {
    "collapsed": false
   },
   "outputs": [],
   "source": [
    "childscope.allocateIp('10.101.0.3', 'netmanchris', 'Juniper')\n"
   ]
  },
  {
   "cell_type": "markdown",
   "metadata": {},
   "source": [
    "Now that we've added this new IP address allocation to the 10.101.0./24 subnet, let's update the hosts list for the childscope object"
   ]
  },
  {
   "cell_type": "code",
   "execution_count": 13,
   "metadata": {
    "collapsed": true
   },
   "outputs": [],
   "source": [
    "childscope.gethosts()"
   ]
  },
  {
   "cell_type": "code",
   "execution_count": 14,
   "metadata": {
    "collapsed": false
   },
   "outputs": [
    {
     "name": "stdout",
     "output_type": "stream",
     "text": [
      "{'id': '161', 'name': 'netmanchris', 'ip': '10.101.0.3', 'parentId': '67', 'description': 'Juniper'}\n"
     ]
    }
   ],
   "source": [
    "for i in childscope.hosts:\n",
    "    if i['ip'] == '10.101.0.3':\n",
    "        print (i)\n"
   ]
  },
  {
   "cell_type": "markdown",
   "metadata": {},
   "source": [
    "## Cleaning Up\n",
    "\n",
    "Now that we've succesfully added the new IP allocation to the IMC System, it's time to clean up after ourselves. \n",
    "\n",
    "To do that, we're simply going to take the id attribute of the IP allocation we created above and use that as the input to the deallocateIP method of the childscope IPSCope object. \n",
    "\n",
    "This should successfully delete the IP allocation that we just created and our system is back to normal. \n",
    "\n",
    "Cool right?\n",
    "\n",
    "For the last step, we wil refresh the hosts list for the childscope object again and make sure that the Juniper record we created above at IP 10.101.0.3 is, indeed, gone."
   ]
  },
  {
   "cell_type": "code",
   "execution_count": 16,
   "metadata": {
    "collapsed": true
   },
   "outputs": [],
   "source": [
    "childscope.deallocateIp(161)"
   ]
  },
  {
   "cell_type": "code",
   "execution_count": 17,
   "metadata": {
    "collapsed": true
   },
   "outputs": [],
   "source": [
    "childscope.gethosts()\n",
    "for i in childscope.hosts:\n",
    "    if i['ip'] == '10.101.0.3':\n",
    "        print (i)\n"
   ]
  },
  {
   "cell_type": "markdown",
   "metadata": {},
   "source": [
    "# Questions\n",
    "\n",
    "If you've got questions, concerns, or comments, please feel free to post below\n",
    "\n",
    "@netmanchris"
   ]
  }
 ],
 "metadata": {
  "kernelspec": {
   "display_name": "Python 3",
   "language": "python",
   "name": "python3"
  },
  "language_info": {
   "codemirror_mode": {
    "name": "ipython",
    "version": 3
   },
   "file_extension": ".py",
   "mimetype": "text/x-python",
   "name": "python",
   "nbconvert_exporter": "python",
   "pygments_lexer": "ipython3",
   "version": "3.4.3"
  }
 },
 "nbformat": 4,
 "nbformat_minor": 0
}
