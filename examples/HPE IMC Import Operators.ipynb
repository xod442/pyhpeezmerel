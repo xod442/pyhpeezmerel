{
 "cells": [
  {
   "cell_type": "code",
   "execution_count": 13,
   "metadata": {
    "collapsed": false
   },
   "outputs": [
    {
     "data": {
      "text/html": [
       "<style>\n",
       "table {float:left}\n",
       "</style>"
      ],
      "text/plain": [
       "<IPython.core.display.HTML object>"
      ]
     },
     "metadata": {},
     "output_type": "execute_result"
    }
   ],
   "source": [
    "%%html\n",
    "<style>\n",
    "table {float:left}\n",
    "</style>"
   ]
  },
  {
   "cell_type": "markdown",
   "metadata": {},
   "source": [
    "# **Working with HPE IMC API for Operators**\n",
    "\n",
    "In this notebook, we will be covering the basics of using the pyhpimc python module to access the RESTFUL interface ( *eAPI* ) of the HPE IMC Network Management Server. \n",
    "\n",
    "The python library is currently available at [HPE Github repository](https://github.com/HPENetworking/HP-Intelligent-Management-Center/blob/master/README.md)"
   ]
  },
  {
   "cell_type": "markdown",
   "metadata": {},
   "source": [
    "## Import Required Modules from pyhpeimc\n",
    "Before we get started, we must import the required libraries into the ipython interpreter . For this notebook, you will require the Auth and Operator modules from the pyhpimc library, as well as the standard csv module. "
   ]
  },
  {
   "cell_type": "code",
   "execution_count": 14,
   "metadata": {
    "collapsed": true
   },
   "outputs": [],
   "source": [
    "import csv\n",
    "import time\n",
    "from pyhpeimc.auth import *\n",
    "from pyhpeimc.plat.operator import *"
   ]
  },
  {
   "cell_type": "markdown",
   "metadata": {},
   "source": [
    "## Input IMC Credentials\n",
    "\n",
    "In this section, we will first create a authentication object which will contain\n",
    "\n",
    "- the protocol\n",
    "- ip address\n",
    "- port number\n",
    "- username\n",
    "- password\n",
    "\n",
    "If you are running this on your local network, please change the appropriate values in the following field to connect to your local IMC server. "
   ]
  },
  {
   "cell_type": "code",
   "execution_count": 15,
   "metadata": {
    "collapsed": false
   },
   "outputs": [],
   "source": [
    "auth = IMCAuth(\"http://\", \"10.101.0.203\", \"8080\", \"admin\", \"admin\")"
   ]
  },
  {
   "cell_type": "markdown",
   "metadata": {},
   "source": [
    "## List Operators\n",
    "In this step we list the current operators that exist in the system by using the **get_plat_operators** function and capturing the output into a varible called *ops_list*.\n",
    "\n",
    "We will then run the **len** which measures the length of the ops_list object, or more simply, measures the number of operators currently configured in the system."
   ]
  },
  {
   "cell_type": "code",
   "execution_count": 19,
   "metadata": {
    "collapsed": false
   },
   "outputs": [
    {
     "name": "stdout",
     "output_type": "stream",
     "text": [
      "There are currently 9 operators configured.\n"
     ]
    },
    {
     "data": {
      "text/plain": [
       "dict"
      ]
     },
     "execution_count": 19,
     "metadata": {},
     "output_type": "execute_result"
    }
   ],
   "source": [
    "ops_list = get_plat_operator(url=auth.url, auth=auth.creds)\n",
    "print (\"There are currently \" + str(len(ops_list)) + \" operators configured.\")\n",
    "type(ops_list)"
   ]
  },
  {
   "cell_type": "markdown",
   "metadata": {},
   "source": [
    "Shown here is a screen capture of the current operators configured in the HPE IMC system. You can see that there are the same amoutn of operators as shown in the statement above. \n",
    "\n",
    "*note: The screen capture is used for the intial demonstration only. If you are running this notebook against your own IMC server, this screen capture may not match what you have configured on your system.*\n",
    "\n",
    "![Show Operators](./images/operators1.png \"Show Operators\")"
   ]
  },
  {
   "cell_type": "markdown",
   "metadata": {},
   "source": [
    "## Importing Operators\n",
    "\n",
    "In the following section, we are going to import a group of operators from a prepared CSV file. \n",
    "\n",
    "For more information on the contents of the CSV file, please see the documentation available at http://ip_address:8080/imcrs  on your local IMC server. \n",
    "\n",
    "The CSV file provided is for example only. Please feel free to use it as a template, but you are encouraged to look at the documentation for more information on the specific attributes of the CSV file. \n",
    "\n",
    "This file contains the following operators\n",
    "\n",
    "| Operator | Fullname |\n",
    "| ------ | ----------- |\n",
    "| cyoung   | Christoper Young |\n",
    "| lstaurt | Les Stuart |\n",
    "| kgott    | Ken Gott |\n",
    "| rkauffman | Rick Kauffman |\n",
    "| lknapp | Leonard Knapp |\n",
    "| clinzell | Chris Linzell |\n",
    "| dwenger | Dwayne Wenger |\n",
    "| jmacdonald | James Macdonald |\n",
    "| tkubica | Tomas Kubica |\n",
    "| mbreen | Michael Breen|\n",
    "| mventer | Marius Venter |"
   ]
  },
  {
   "cell_type": "code",
   "execution_count": 5,
   "metadata": {
    "collapsed": false
   },
   "outputs": [
    {
     "name": "stdout",
     "output_type": "stream",
     "text": [
      "fullName,sessionTimeout,password,operatorGroupId,name,desc,defaultAcl,authType\n",
      "Christopher Young,10,access4chris,1,cyoung,Chris account,0,0\n",
      "Les Stuart,10,access4les,1,lstuart,admin account,0,0\n",
      "Ken Gott,10,access4ken,1,kgott,admin account,0,0\n",
      "Rick Kauffman,10,access4rick,1,rkauffman,admin account,0,0\n",
      "Leonard Knapp,10,access4leonard,1,lknapp,admin account,0,0\n",
      "Chris Linzell,10,access4chris,1,clinzell,admin account,0,0\n",
      "Dwayne Wenger,10,access4dwayne,1,dwenger,admin account,0,0\n",
      "James Macdonald,10,access4jim,1,jmacdonald,admin account,0,0\n",
      "Tomas Kubica,10,access4tomas,1,tkubica,admin account,0,0\n",
      "Michael Breen,10,access4michael,1,mbreen,admin account,0,0\n",
      "Marius Venter,10,access4marius,1,mventer,marius admin account,0,0\n",
      "Kevin Secino,10,access4kevin,1,ksecino,marius admin account,0,0\n",
      "\n"
     ]
    }
   ],
   "source": [
    "with open('imc_operator_list.csv') as f:\n",
    "    s = f.read()\n",
    "    print (s)"
   ]
  },
  {
   "cell_type": "markdown",
   "metadata": {},
   "source": [
    "# Create import_operator function\n",
    "\n",
    "In this section, we have created a simple python function to perform the following tasks\n",
    "\n",
    "- Use the standard library CSV module to open the file **imc_operator_list.csv** file. \n",
    "- Use a standard *For* loop to take each line from the CSV file and run the **create_operator** function from the pyhpimc library over it.\n",
    "\n",
    "This function will allow us to run the **create_operator** function once for each operator in the csv file."
   ]
  },
  {
   "cell_type": "code",
   "execution_count": 6,
   "metadata": {
    "collapsed": true
   },
   "outputs": [],
   "source": [
    "def import_operator(filename='imc_operator_list.csv'):\n",
    "    with open(filename) as csvfile:\n",
    "        # decodes file as csv as a python dictionary\n",
    "        reader = csv.DictReader(csvfile)\n",
    "        try:\n",
    "            for operator in reader:\n",
    "                # loads each row of the CSV as a JSON string\n",
    "                create_operator(operator, url=auth.url, auth=auth.creds)\n",
    "        except:\n",
    "            pass"
   ]
  },
  {
   "cell_type": "markdown",
   "metadata": {},
   "source": [
    "## Run Import Operators Function\n",
    "\n",
    "We will now run the **import_operator** function we created above. In this example, we do not have to input the name of the csv file as we are using the default values as configured in the function (*filename='imc_operator_list.csv'*)"
   ]
  },
  {
   "cell_type": "code",
   "execution_count": 7,
   "metadata": {
    "collapsed": false
   },
   "outputs": [
    {
     "name": "stdout",
     "output_type": "stream",
     "text": [
      "Operator Already Exists\n",
      "Operator Already Exists\n",
      "Operator Already Exists\n",
      "Operator Already Exists\n",
      "Operator Already Exists\n",
      "Operator Already Exists\n",
      "Operator Already Exists\n",
      "Operator Already Exists\n",
      "Operator Already Exists\n",
      "Operator Already Exists\n",
      "Operator Already Exists\n",
      "Operator Successfully Created\n",
      "--- 1.667229175567627 seconds ---\n"
     ]
    }
   ],
   "source": [
    "start_time = time.time()\n",
    "import_operator()\n",
    "print(\"--- %s seconds ---\" % (time.time() - start_time))"
   ]
  },
  {
   "cell_type": "markdown",
   "metadata": {},
   "source": [
    "## List Operators\n",
    "\n",
    "We will now list the number of operators in the system. "
   ]
  },
  {
   "cell_type": "code",
   "execution_count": 8,
   "metadata": {
    "collapsed": false
   },
   "outputs": [
    {
     "name": "stdout",
     "output_type": "stream",
     "text": [
      "There are currently 13 operators configured.\n"
     ]
    }
   ],
   "source": [
    "ops_list = get_plat_operator(url=auth.url, auth=auth.creds)\n",
    "print (\"There are currently \" + str(len(ops_list)) + \" operators configured.\")"
   ]
  },
  {
   "cell_type": "markdown",
   "metadata": {},
   "source": [
    "Shown here is a screen capture of the current operators configured in the HPE IMC system. You can see that there are the same amoutn of operators as shown in the statement above. \n",
    "\n",
    "*note: The screen capture is used for the intial demonstration only. If you are running this notebook against your own IMC server, this screen capture may not match what you have configured on your system.*\n",
    "\n",
    "![Show Operators](./images/operators2.png \"Show Operators\")"
   ]
  },
  {
   "cell_type": "markdown",
   "metadata": {},
   "source": [
    "# Resetting an Operator Password\n",
    "We will now use the **set_operator_password** function to set the password of the newly created **cyoung** account to something a little more secure. \n",
    "\n",
    "Feel free to try using this function to reset the password of another account by replacing the *cyoung* variable in the function below."
   ]
  },
  {
   "cell_type": "code",
   "execution_count": 10,
   "metadata": {
    "collapsed": false
   },
   "outputs": [
    {
     "name": "stdout",
     "output_type": "stream",
     "text": [
      "\n",
      " Operator:cyoung password was successfully changed\n"
     ]
    },
    {
     "data": {
      "text/plain": [
       "204"
      ]
     },
     "execution_count": 10,
     "metadata": {},
     "output_type": "execute_result"
    }
   ],
   "source": [
    "set_operator_password('cyoung', password='newpass',auth=auth.creds,url=auth.url,)"
   ]
  },
  {
   "cell_type": "markdown",
   "metadata": {},
   "source": [
    "# Clean up the system when we're done\n",
    "\n",
    "In the following section, we will continue to use the API to clean up the system, using the *delete_plat_operator* function to delete all the new operators.\n",
    "\n",
    "We will\n",
    "- create a new python list called ops_list with the name of all the operators we configured as items in the list. \n",
    "- Use a standard *For* loop to take each line from the ops_list object and run the **delete_plat_operator** function from the pyhpimc library over it.\n"
   ]
  },
  {
   "cell_type": "code",
   "execution_count": 11,
   "metadata": {
    "collapsed": true
   },
   "outputs": [],
   "source": [
    "ops_list = ['cyoung', 'lstuart', 'clinzell', 'kgott', 'rkauffman', 'lknapp', 'dwenger', 'jmacdonald', 'tkubica', 'mbreen', 'mventer']"
   ]
  },
  {
   "cell_type": "code",
   "execution_count": 12,
   "metadata": {
    "collapsed": false
   },
   "outputs": [
    {
     "name": "stdout",
     "output_type": "stream",
     "text": [
      "\n",
      " Operator: cyoung was successfully deleted\n",
      "\n",
      " Operator: lstuart was successfully deleted\n",
      "\n",
      " Operator: clinzell was successfully deleted\n",
      "\n",
      " Operator: kgott was successfully deleted\n",
      "\n",
      " Operator: rkauffman was successfully deleted\n",
      "\n",
      " Operator: lknapp was successfully deleted\n",
      "\n",
      " Operator: dwenger was successfully deleted\n",
      "\n",
      " Operator: jmacdonald was successfully deleted\n",
      "\n",
      " Operator: tkubica was successfully deleted\n",
      "\n",
      " Operator: mbreen was successfully deleted\n",
      "\n",
      " Operator: mventer was successfully deleted\n"
     ]
    }
   ],
   "source": [
    "for operator in ops_list:\n",
    "    delete_plat_operator(operator,url=auth.url, auth=auth.creds, headers=HEADERS)"
   ]
  },
  {
   "cell_type": "code",
   "execution_count": null,
   "metadata": {
    "collapsed": true
   },
   "outputs": [],
   "source": [
    ""
   ]
  }
 ],
 "metadata": {
  "kernelspec": {
   "display_name": "Python 3",
   "language": "python",
   "name": "python3"
  },
  "language_info": {
   "codemirror_mode": {
    "name": "ipython",
    "version": 3.0
   },
   "file_extension": ".py",
   "mimetype": "text/x-python",
   "name": "python",
   "nbconvert_exporter": "python",
   "pygments_lexer": "ipython3",
   "version": "3.4.3"
  }
 },
 "nbformat": 4,
 "nbformat_minor": 0
}